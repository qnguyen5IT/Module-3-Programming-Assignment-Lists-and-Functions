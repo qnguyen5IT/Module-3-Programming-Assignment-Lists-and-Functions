{
 "cells": [
  {
   "cell_type": "code",
   "execution_count": 1,
   "id": "e421f4b2-9453-4f52-a8a5-bda8a6da7f45",
   "metadata": {},
   "outputs": [],
   "source": [
    "#7.4 Creating a list, with 3 elements, and first element start with index [0]\n",
    "things = [\"mozzarella\",\"cinderella\",\"salmonella\"] "
   ]
  },
  {
   "cell_type": "code",
   "execution_count": 4,
   "id": "e7efb1a1-1fb2-41cd-a995-3118499a3680",
   "metadata": {},
   "outputs": [
    {
     "name": "stdout",
     "output_type": "stream",
     "text": [
      "['mozzarella', 'Cinderella', 'salmonella']\n"
     ]
    }
   ],
   "source": [
    "#7.5 Capitalizing the element referring to a person, in this case is \"cinderella\", which is the second element in the list \"things\"\n",
    "things[1] = things[1].capitalize()\n",
    "print(things)"
   ]
  },
  {
   "cell_type": "code",
   "execution_count": 5,
   "id": "f87b2f86-876d-4367-b332-7ae2bb3fb086",
   "metadata": {},
   "outputs": [
    {
     "name": "stdout",
     "output_type": "stream",
     "text": [
      "['Mozzarella', 'Cinderella', 'salmonella']\n"
     ]
    }
   ],
   "source": [
    "#7.6 Capilizing the cheesy element, in this case, it would be the 1st element\n",
    "things[0] = things[0].capitalize()\n",
    "print(things)"
   ]
  },
  {
   "cell_type": "code",
   "execution_count": 7,
   "id": "1221635e-4e0f-4502-99bd-c30fbabaca42",
   "metadata": {},
   "outputs": [
    {
     "name": "stdout",
     "output_type": "stream",
     "text": [
      "['Mozzarella', 'Cinderella']\n"
     ]
    }
   ],
   "source": [
    "#7.7 Delete the element contain \"disease\" in the list, then print the list.\n",
    "things.pop(2)\n",
    "#.pop() is used here to target the specific index. If .remove() was to be used, you would need to know what the specific element/item is called. \n",
    "print(things)"
   ]
  },
  {
   "cell_type": "code",
   "execution_count": 8,
   "id": "fee46e6e-9544-4179-a805-f2e8d1c283b6",
   "metadata": {},
   "outputs": [
    {
     "name": "stdout",
     "output_type": "stream",
     "text": [
      "['Harry', 'Ron', 'Hermione']\n"
     ]
    }
   ],
   "source": [
    "#Define a function called good() that returns a list\n",
    "def good(): \n",
    "    list = ['Harry', 'Ron', 'Hermione']\n",
    "    print(list)\n",
    "\n",
    "good()"
   ]
  },
  {
   "cell_type": "code",
   "execution_count": 10,
   "id": "5f1df225-3afc-4fec-b6fc-acae04113159",
   "metadata": {},
   "outputs": [
    {
     "name": "stdout",
     "output_type": "stream",
     "text": [
      "1\n",
      "3\n",
      "5\n",
      "7\n",
      "9\n"
     ]
    }
   ],
   "source": [
    "#Define a function called get_odds() that returns odd numbers from range(10). \n",
    "def get_odds(): \n",
    "    for num in range(10): \n",
    "        if num % 2: \n",
    "            yield num\n",
    "\n",
    "for n in get_odds(): \n",
    "    print(n)"
   ]
  }
 ],
 "metadata": {
  "kernelspec": {
   "display_name": "Python 3 (ipykernel)",
   "language": "python",
   "name": "python3"
  },
  "language_info": {
   "codemirror_mode": {
    "name": "ipython",
    "version": 3
   },
   "file_extension": ".py",
   "mimetype": "text/x-python",
   "name": "python",
   "nbconvert_exporter": "python",
   "pygments_lexer": "ipython3",
   "version": "3.12.4"
  }
 },
 "nbformat": 4,
 "nbformat_minor": 5
}
